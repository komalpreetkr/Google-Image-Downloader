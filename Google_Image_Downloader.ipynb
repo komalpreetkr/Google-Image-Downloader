{
  "nbformat": 4,
  "nbformat_minor": 0,
  "metadata": {
    "colab": {
      "provenance": []
    },
    "kernelspec": {
      "name": "python3",
      "display_name": "Python 3"
    },
    "language_info": {
      "name": "python"
    }
  },
  "cells": [
    {
      "cell_type": "code",
      "execution_count": 1,
      "metadata": {
        "colab": {
          "base_uri": "https://localhost:8080/"
        },
        "id": "HKchrwuVZwlZ",
        "outputId": "35f237a3-9bdd-4e66-ecdf-60aed42189d6"
      },
      "outputs": [
        {
          "output_type": "stream",
          "name": "stdout",
          "text": [
            "Collecting icrawler\n",
            "  Downloading icrawler-0.6.10-py3-none-any.whl.metadata (6.2 kB)\n",
            "Requirement already satisfied: beautifulsoup4 in /usr/local/lib/python3.11/dist-packages (from icrawler) (4.13.4)\n",
            "Collecting bs4 (from icrawler)\n",
            "  Downloading bs4-0.0.2-py2.py3-none-any.whl.metadata (411 bytes)\n",
            "Requirement already satisfied: lxml in /usr/local/lib/python3.11/dist-packages (from icrawler) (5.4.0)\n",
            "Requirement already satisfied: pillow in /usr/local/lib/python3.11/dist-packages (from icrawler) (11.2.1)\n",
            "Requirement already satisfied: pyyaml in /usr/local/lib/python3.11/dist-packages (from icrawler) (6.0.2)\n",
            "Requirement already satisfied: requests in /usr/local/lib/python3.11/dist-packages (from icrawler) (2.32.3)\n",
            "Requirement already satisfied: six in /usr/local/lib/python3.11/dist-packages (from icrawler) (1.17.0)\n",
            "Requirement already satisfied: soupsieve>1.2 in /usr/local/lib/python3.11/dist-packages (from beautifulsoup4->icrawler) (2.7)\n",
            "Requirement already satisfied: typing-extensions>=4.0.0 in /usr/local/lib/python3.11/dist-packages (from beautifulsoup4->icrawler) (4.14.0)\n",
            "Requirement already satisfied: charset-normalizer<4,>=2 in /usr/local/lib/python3.11/dist-packages (from requests->icrawler) (3.4.2)\n",
            "Requirement already satisfied: idna<4,>=2.5 in /usr/local/lib/python3.11/dist-packages (from requests->icrawler) (3.10)\n",
            "Requirement already satisfied: urllib3<3,>=1.21.1 in /usr/local/lib/python3.11/dist-packages (from requests->icrawler) (2.4.0)\n",
            "Requirement already satisfied: certifi>=2017.4.17 in /usr/local/lib/python3.11/dist-packages (from requests->icrawler) (2025.6.15)\n",
            "Downloading icrawler-0.6.10-py3-none-any.whl (36 kB)\n",
            "Downloading bs4-0.0.2-py2.py3-none-any.whl (1.2 kB)\n",
            "Installing collected packages: bs4, icrawler\n",
            "Successfully installed bs4-0.0.2 icrawler-0.6.10\n",
            "Enter search keyword (e.g., 'mountains', 'puppies'): dogs\n",
            "Enter number of images to download: 5\n",
            "\n",
            "✅ 5 images of 'dogs' downloaded to folder 'dogs'.\n"
          ]
        }
      ],
      "source": [
        "# Step 1: Install dependencies\n",
        "!pip install icrawler\n",
        "\n",
        "# Step 2: Import required libraries\n",
        "from icrawler.builtin import GoogleImageCrawler\n",
        "import os\n",
        "\n",
        "# Step 3: Create a function to download images\n",
        "def download_images(keyword, num_images):\n",
        "    folder_name = keyword.replace(\" \", \"_\")  # folder name without spaces\n",
        "\n",
        "    # Create folder if not exists\n",
        "    if not os.path.exists(folder_name):\n",
        "        os.makedirs(folder_name)\n",
        "\n",
        "    # Initialize the crawler\n",
        "    google_crawler = GoogleImageCrawler(storage={'root_dir': folder_name})\n",
        "\n",
        "    # Start downloading\n",
        "    google_crawler.crawl(keyword=keyword, max_num=num_images)\n",
        "    print(f\"\\n✅ {num_images} images of '{keyword}' downloaded to folder '{folder_name}'.\")\n",
        "\n",
        "# Step 4: Ask user for input\n",
        "search_term = input(\"Enter search keyword (e.g., 'mountains', 'puppies'): \")\n",
        "num = int(input(\"Enter number of images to download: \"))\n",
        "\n",
        "# Step 5: Run the downloader\n",
        "download_images(search_term, num)\n"
      ]
    }
  ]
}